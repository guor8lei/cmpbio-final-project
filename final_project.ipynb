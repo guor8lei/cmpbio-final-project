{
 "cells": [
  {
   "cell_type": "markdown",
   "metadata": {},
   "source": [
    "# Final Project\n",
    "BioE 131/231 Fall 2019"
   ]
  },
  {
   "cell_type": "markdown",
   "metadata": {},
   "source": [
    "## Overview\n",
    "Congratulations, all! You have made\tit to the final\tproject. From now\tuntil the end of the semester, you will analyze a set of genomes using the skills you have learned thus far and explore new types of analysis. These genomes come from the Salmonella reference collection (https://people.ucalgary.ca/~kesander/Kit_14A.html), which were isolated from different sources many years ago, but have not been fully analyzed. We are interested in learning more about these strains and their pathogenicity."
   ]
  },
  {
   "cell_type": "markdown",
   "metadata": {},
   "source": [
    "The goal of this part of class is to let you work on a real, unpublished dataset, applying your  own ideas of how best to conduct the analysis. Ideas for projects, deliverables, and due dates  are listed below on a week-by-week basis."
   ]
  },
  {
   "cell_type": "markdown",
   "metadata": {},
   "source": [
    "## Timeline\n",
    "**Week 1:** Break into groups, obtain data, assemble genome, annotate genome.  \n",
    "**Week 2:** Propose your own analysis.\t\n",
    "**Week 3:** No lab (Thanksgiving). Work on your own analysis.\t\n",
    "**Week 4:** Group presentations during lab. Final report due.  "
   ]
  },
  {
   "cell_type": "markdown",
   "metadata": {},
   "source": [
    "## Background\n",
    "Genome sequencing and assembly are common techniques in biology. To obtain the sequence of a long genome, DNA must be chopped into small pieces that can be read by a sequencer. These short reads must then be stitched back together to form a complete genome. Often, the genome cannot be fully assembled because there are multiple equally plausible ways of stitching the reads together. Ideally, each chromosome is assembled into a single, long sequence. In practice, chromosomes are often assembled into multiple “contigs,” or contiguous sequences. A genome assembly is generally considered complete only when all (or nearly all) the sequences are accounted for. Otherwise, it is considered a draft genome.  \n",
    "\n",
    "In a previous lab, you filtered human reads from a bacterial genome by alignment using Bowtie2. In this lab, you will continue your analysis, albeit with a different set of reads. First, you must take the reads and combine them into a complete genome. Next week, you will analyze the contents of your genome."
   ]
  },
  {
   "cell_type": "markdown",
   "metadata": {},
   "source": [
    "## Week 1\n",
    "First off, find a group of four people (max five per group). Please let your GSI know who is in your new group so they can keep track. Your GSI will assign you a set of reads for the final project. Each group will be given a different set of reads.  \n",
    "\n",
    "Next, please assemble your genome into contigs using SPAdes as we did in lab 8/9 using the -1 and -2 flags for paired end reads. Remember to run your assembly using -t 1 and -m 16 to limit your CPU and memory usage (save some for everyone else). If those limits are too low, let your GSI know. This will take a while, so be sure to run it in tmux.  \n",
    "\n",
    "When you’re done, calculate assembly statistics and plot a histogram of contig lengths from your genome assembly in iPython, along with the N50. Summarize your results from SeqMatch (do we have the strain we expect?) and RAST/BASys annotations. (If annotation isn't ready in time, submit this in Week 2). Your report is due the following Wednesday at 11:59 AM."
   ]
  },
  {
   "cell_type": "markdown",
   "metadata": {},
   "source": [
    "### Running SPAdes\n",
    "Ran\n",
    "```\n",
    "ls /bigdata/FinalProject_data\n",
    "ls /bigdata/FinalProject_data/190724_SARA_Genomes\n",
    "```\n",
    "to validate the file location and file names.  \n",
    "\n",
    "Prepare spades command and run from `/bigdata/FinalProject_groups/Group_5/assembly`: \n",
    "```\n",
    "spades.py -o . -1 /bigdata/FinalProject_data/190724_SARA_Genomes/SARA_5_S28_L004_R1_001.fastq.gz -2 /bigdata/FinalProject_data/190724_SARA_Genomes/SARA_5_S28_L004_R2_001.fastq.gz -t 1\n",
    "```\n",
    "-o is destination directory (. for present directory)  \n",
    "-1 is location of reads 1  \n",
    "-2 is location of reads 2  \n",
    "-t 1 reserves only 1 core for the process  "
   ]
  },
  {
   "cell_type": "markdown",
   "metadata": {},
   "source": [
    "### Run assembly-stats\n",
    "Prepare Command, run from `bigdata/FinalProject_groups/Group_5/assembly`: \n",
    "```\n",
    "assembly-stats ./contigs.fasta ./scaffolds.fasta\n",
    "```\n",
    "Output: \n",
    "```\n",
    "stats for ./contigs.fasta\n",
    "sum = 4960322, n = 153, ave = 32420.41, largest = 449208\n",
    "N50 = 194186, n = 9\n",
    "N60 = 130292, n = 13\n",
    "N70 = 109439, n = 17\n",
    "N80 = 87947, n = 22\n",
    "N90 = 51460, n = 29\n",
    "N100 = 56, n = 153\n",
    "N_count = 0\n",
    "Gaps = 0\n",
    "----------------------------------------------------------------\n",
    "stats for ./scaffolds.fasta\n",
    "sum = 4960972, n = 146, ave = 33979.26, largest = 449208\n",
    "N50 = 223794, n = 8\n",
    "N60 = 159283, n = 10\n",
    "N70 = 143384, n = 13\n",
    "N80 = 89581, n = 18\n",
    "N90 = 56692, n = 24\n",
    "N100 = 56, n = 146\n",
    "N_count = 700\n",
    "Gaps = 7\n",
    "```"
   ]
  },
  {
   "cell_type": "markdown",
   "metadata": {},
   "source": [
    "### Plot Contig Coverage Histogram"
   ]
  },
  {
   "cell_type": "markdown",
   "metadata": {},
   "source": [
    "#### Imports"
   ]
  },
  {
   "cell_type": "code",
   "execution_count": 1,
   "metadata": {},
   "outputs": [],
   "source": [
    "import numpy as np\n",
    "import matplotlib.pyplot as plt\n",
    "from Bio import SeqIO"
   ]
  },
  {
   "cell_type": "markdown",
   "metadata": {},
   "source": [
    "#### Extract Coverage Data"
   ]
  },
  {
   "cell_type": "code",
   "execution_count": 2,
   "metadata": {},
   "outputs": [],
   "source": [
    "coverage_datas = []\n",
    "directory = \"/bigdata/FinalProject_groups/Group_5/assembly/\"\n",
    "file_names = [\"contigs\", \"scaffolds\"]\n",
    "for file_name in file_names:\n",
    "    coverage_data = []\n",
    "    with open(directory + file_name + \".fasta\", \"r\") as handle:\n",
    "        for record in SeqIO.parse(handle, \"fasta\"):\n",
    "            header = record.id\n",
    "            index = int(header.find(\"_cov_\") + len(\"_cov_\"))\n",
    "            coverage = float(header[index:])\n",
    "            coverage_data.append(coverage)\n",
    "    coverage_datas.append(coverage_data)"
   ]
  },
  {
   "cell_type": "markdown",
   "metadata": {},
   "source": [
    "#### Plot Coverage Data Histogram"
   ]
  },
  {
   "cell_type": "code",
   "execution_count": 3,
   "metadata": {},
   "outputs": [
    {
     "data": {
      "image/png": "[encoded data removed]",
      "text/plain": [
       "<Figure size 432x288 with 1 Axes>"
      ]
     },
     "metadata": {
      "needs_background": "light"
     },
     "output_type": "display_data"
    },
    {
     "data": {
      "image/png": "[encoded data removed]",
      "text/plain": [
       "<Figure size 432x288 with 1 Axes>"
      ]
     },
     "metadata": {
      "needs_background": "light"
     },
     "output_type": "display_data"
    }
   ],
   "source": [
    "for i in range(len(coverage_datas)):\n",
    "    coverage_data = coverage_datas[i]\n",
    "    plt.title(file_names[i] + \" Coverage\")\n",
    "    plt.bar(range(len(coverage_data)), coverage_data)\n",
    "    plt.xlabel(\"Number\")\n",
    "    plt.ylabel(\"Coverage\")\n",
    "    plt.show()"
   ]
  },
  {
   "cell_type": "markdown",
   "metadata": {},
   "source": [
    "### Plot Contig Length Histogram"
   ]
  },
  {
   "cell_type": "code",
   "execution_count": 4,
   "metadata": {},
   "outputs": [],
   "source": [
    "length_datas = []\n",
    "directory = \"/bigdata/FinalProject_groups/Group_5/assembly/\"\n",
    "file_names = [\"contigs\", \"scaffolds\"]\n",
    "for file_name in file_names:\n",
    "    length_data = []\n",
    "    with open(directory + file_name + \".fasta\", \"r\") as handle:\n",
    "        for record in SeqIO.parse(handle, \"fasta\"):\n",
    "            header = record.id\n",
    "            start_index = int(header.find(\"_length_\") + len(\"_length_\"))\n",
    "            end_index = int(header.find(\"_cov_\") + len(\"_cov_\"))\n",
    "            coverage = float(header[start_index:end_index-5])\n",
    "            length_data.append(coverage)\n",
    "    length_datas.append(length_data)"
   ]
  },
  {
   "cell_type": "code",
   "execution_count": 5,
   "metadata": {},
   "outputs": [
    {
     "data": {
      "image/png": "[encoded data removed]",
      "text/plain": [
       "<Figure size 432x288 with 1 Axes>"
      ]
     },
     "metadata": {
      "needs_background": "light"
     },
     "output_type": "display_data"
    },
    {
     "data": {
      "image/png": "[encoded data removed]",
      "text/plain": [
       "<Figure size 432x288 with 1 Axes>"
      ]
     },
     "metadata": {
      "needs_background": "light"
     },
     "output_type": "display_data"
    }
   ],
   "source": [
    "for i in range(len(length_datas)):\n",
    "    length_data = length_datas[i]\n",
    "    plt.title(file_names[i] + \" Coverage\")\n",
    "    plt.bar(range(len(length_data)), length_data)\n",
    "    plt.xlabel(\"Number\")\n",
    "    plt.ylabel(\"Length\")\n",
    "    plt.show()"
   ]
  },
  {
   "cell_type": "markdown",
   "metadata": {},
   "source": [
    "## Identify the taxon from which your genome originated\n",
    "\n",
    "We moved the HMM database to `/bigdata/FinalProject_groups/Group_5/rna_hmm3/HMM3`: \n",
    "```\n",
    "ls /bigdata/FinalProject_groups/Group_5/rna_hmm3/HMM3\n",
    "```\n",
    "```\n",
    "arc_lsu.hmm  arc_ssu.hmm  arc_tsu.hmm  bac_lsu.hmm  bac_ssu.hmm  bac_tsu.hmm\n",
    "```\n",
    "run `rna_hmm.py` from `/bigdata/FinalProject_groups/Group_5`\n",
    "```\n",
    "rna_hmm3.py -i /bigdata/FinalProject_groups/Group_5/assembly/contigs.fasta -o ./rna_hmm3_o -L /bigdata/FinalProject_groups/Group_5/rna_hmm3/HMM3\n",
    "```\n",
    "output file: `rna_hmm3_o`\n",
    "\n",
    "Made a copy and deleted all lines other than 16S_rRNA in text editor. Filename: `rna_hmm3_16`\n",
    "\n",
    "Extract nucleic acid sequences from `/bigdata/FinalProject_groups/Group_5`\n",
    "Note: didn't have write-permission to assembly, so ran\n",
    "```\n",
    "cp assembly/contigs.fasta .\n",
    "```\n",
    "```\n",
    "bedtools getfasta -fi ./contigs.fasta -bed ./rna_hmm3_16 -fo ./nucleic_acids\n",
    "```\n",
    "\n",
    "Output sequence in next cell.  \n",
    "\n",
    "Ran SeqMatch on `contigs.fasta`\n",
    "\n",
    "domain Bacteria (20)  \n",
    "&nbsp;&nbsp;&nbsp;phylum \"Proteobacteria\" (20)  \n",
    "&nbsp;&nbsp;&nbsp;&nbsp;&nbsp;&nbsp;class Gammaproteobacteria (20)  \n",
    "&nbsp;&nbsp;&nbsp;&nbsp;&nbsp;&nbsp;&nbsp;&nbsp;&nbsp;order Enterobacteriales (20)  \n",
    "&nbsp;&nbsp;&nbsp;&nbsp;&nbsp;&nbsp;&nbsp;&nbsp;&nbsp;&nbsp;&nbsp;&nbsp;family Enterobacteriaceae (20)  \n",
    "&nbsp;&nbsp;&nbsp;&nbsp;&nbsp;&nbsp;&nbsp;&nbsp;&nbsp;&nbsp;&nbsp;&nbsp;&nbsp;&nbsp;&nbsp;genus Salmonella (20)  "
   ]
  },
  {
   "cell_type": "markdown",
   "metadata": {},
   "source": [
    "```\n",
    ">NODE_57_length_1736_cov_1821.819155:45-1598\n",
    "AAGGTAAGGAGGTGATCCAACCGCAGGTTCCCCTACGGTTACCTTGTTACGACTTCACCCCAGTCATGAATCACAAAGTGGTAAGCGCCCTCCCGAAGGTTAAGCTACCTACTTCTTTTGCAACCCACTCCCATGGTGTGACGGGCGGTGTGTACAAGGCCCGGGAACGTATTCACCGTGGCATTCTGATCCACGATTACTAGCGATTCCGACTTCATGGAGTCGAGTTGCAGACTCCAATCCGGACTACGACGCACTTTATGAGGTCCGCTTGCTCTCGCGAGGTCGCTTCTCTTTGTATGCGCCATTGTAGCACGTGTGTAGCCCTGGTCGTAAGGGCCATGATGACTTGACGTCATCCCCACCTTCCTCCAGTTTATCACTGGCAGTCTCCTTTGAGTTCCCGACCTAATCGCTGGCAACAAAGGATAAGGGTTGCGCTCGTTGCGGGACTTAACCCAACATTTCACAACACGAGCTGACGACAGCCATGCAGCACCTGTCTCACAGTTCCCGAAGGCACCAATCCATCTCTGGAAAGTTCTGTGGATGTCAAGACCAGGTAAGGTTCTTCGCGTTGCATCGAATTAAACCACATGCTCCACCGCTTGTGCGGGCCCCCGTCAATTCATTTGAGTTTTAACCTTGCGGCCGTACTCCCCAGGCGGTCTACTTAACGCGTTAGCTCCGGAAGCCACGCCTCAAGGGCACAACCTCCAAGTAGACATCGTTTACGGCGTGGACTACCAGGGTATCTAATCCTGTTTGCTCCCCACGCTTTCGCACCTGAGCGTCAGTCTTTGTCCAGGGGGCCGCCTTCGCCACCGGTATTCCTCCAGATCTCTACGCATTTCACCGCTACACCTGGAATTCTACCCCCCTCTACAAGACTCAAGCCTGCCAGTTTCGAATGCAGTTCCCAGGTTGAGCCCGGGGATTTCACATCCGACTTGACAGACCGCCTGCGTGCGCTTTACGCCCAGTAATTCCGATTAACGCTTGCACCCTCCGTATTACCGCGGCTGCTGGCACGGAGTTAGCCGGTGCTTCTTCTGCGGGTAACGTCAATTGCTGCGGTTATTAACCACAACACCTTCCTCCCCGCTGAAAGTACTTTACAACCCGAAGGCCTTCTTCATACACGCGGCATGGCTGCATCAGGCTTGCGCCCATTGTGCAATATTCCCCACTGCTGCCTCCCGTAGGAGTCTGGACCGTGTCTCAGTTCCAGTGTGGCTGGTCATCCTCTCAGACCAGCTAGGGATCGTCGCCTTGGTGAGCCGTTACCTCACCAACAAGCTAATCCCATCTGGGCACATCTGATGGCAAGAGGCCCGAAGGTCCCCCTCTTTGGTCTTGCGACGTTATGCGGTATTAGCCACCGTTTCCAGTAGTTATCCCCCTCCATCAGGCAGTTTCCCAGACATTACTCACCCGTCCGCCACTCGTCAGCGAAGCAGCAAGCTGCTTCCTGTTACCGTTCGACTTGCATGTGTTAGGCCTGCCGCCAGCGTTCAATCTGAGCCATGATCAAACTCTTCAATTTAAAAGTT\n",
    "```"
   ]
  },
  {
   "cell_type": "markdown",
   "metadata": {},
   "source": [
    "![SeqMatch_results](SeqMatch_results.png)"
   ]
  },
  {
   "cell_type": "markdown",
   "metadata": {},
   "source": [
    "## Genome annotation\n",
    "### RAST\n",
    "`\n",
    "Login: Qube5  \n",
    "Password: w5mAvPg4  \n",
    "`  \n",
    "\n",
    "ran RAST annotation with contigs.fasta\n",
    "\n",
    "Job Status: http://rast.theseed.org/FIG/rast.cgi?page=JobDetails&job=797079"
   ]
  },
  {
   "cell_type": "markdown",
   "metadata": {},
   "source": [
    "--------------------------"
   ]
  },
  {
   "cell_type": "markdown",
   "metadata": {},
   "source": [
    "## Week 2\n",
    "By now, you should have an assembly and annotation of your genome. While you are waiting for your annotations, you can start brainstorming ideas for your own analysis. Before you leave  today, make sure your GSI approves of your project. You will have two weeks (including \n",
    "Thanksgiving) to work on it before your final presentation.  \n",
    "\n",
    "**A list of project ideas will be uploaded to bCourses shortly if it hasn’t been already.**  \n",
    "\n",
    "Upload a report summarizing the findings of your annotations and a description of the project you intend to work on by the following Wednesday at 11:59 AM."
   ]
  },
  {
   "cell_type": "markdown",
   "metadata": {},
   "source": [
    "--------------------------"
   ]
  },
  {
   "cell_type": "markdown",
   "metadata": {},
   "source": [
    "## Presentations\n",
    "Prepare a ten minute PowerPoint presentation describing all of the results of your genome assembly and analysis. Everyone in your group should speak during the presentation. You will have 5 minutes for questions at the end.  Summarize the results of your assembly (e.g., N50, contig length histogram).  \n",
    "\n",
    "Summarize the results of your annotations.  \n",
    "Which analysis project did you choose?  \n",
    "What were some of the issues you ran into?  \n",
    "What were your results?  \n",
    "If you had more time, what additional experiments and analyses would you perform?"
   ]
  },
  {
   "cell_type": "markdown",
   "metadata": {},
   "source": [
    "--------------------------"
   ]
  },
  {
   "cell_type": "markdown",
   "metadata": {},
   "source": [
    "## Written report\n",
    "Submit a report (up to 5 pages, not included figures) along with your final presentation. This report should summarize your assembly results, your annotations, the methods that you used for your original analysis, and the findings of your analysis. Please be clear about the question you are trying to answer, how your chosen method will help you answer it, and any potential limitations of your results"
   ]
  },
  {
   "cell_type": "markdown",
   "metadata": {},
   "source": [
    "--------------------------"
   ]
  }
 ],
 "metadata": {
  "kernelspec": {
   "display_name": "Python 3",
   "language": "python",
   "name": "python3"
  },
  "language_info": {
   "codemirror_mode": {
    "name": "ipython",
    "version": 3
   },
   "file_extension": ".py",
   "mimetype": "text/x-python",
   "name": "python",
   "nbconvert_exporter": "python",
   "pygments_lexer": "ipython3",
   "version": "3.6.8"
  }
 },
 "nbformat": 4,
 "nbformat_minor": 2
}
