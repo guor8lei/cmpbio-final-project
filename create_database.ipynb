{
 "cells": [
  {
   "cell_type": "markdown",
   "metadata": {},
   "source": [
    "# Create a Database"
   ]
  },
  {
   "cell_type": "markdown",
   "metadata": {},
   "source": [
    "Create a database that connects Genbank Data to MP3 pathogenicity output. Please see final_project.ipynb for more information. Genbank data can be downloaded form a rast annotation of a genome then run through MP3.  \n",
    "File structure should be \n",
    "- ./\n",
    "    - create_database.ipynb\n",
    "    - Groups\n",
    "        - Group1\n",
    "            - Group1.faa.Hybrid.result\n",
    "            - Group1.gbk\n",
    "        - Group2\n",
    "            - Group2.faa.Hybrid.result\n",
    "            - Group2.gbk\n",
    "    - database.pkl\n",
    "    \n",
    "The term groups from the class project. Algorithm may be tweaked for changed filenames and directories"
   ]
  },
  {
   "cell_type": "markdown",
   "metadata": {},
   "source": [
    "### Imports"
   ]
  },
  {
   "cell_type": "code",
   "execution_count": 1,
   "metadata": {},
   "outputs": [],
   "source": [
    "import numpy as np\n",
    "import matplotlib.pyplot as plt\n",
    "import pandas as pd\n",
    "from Bio import SeqIO\n",
    "from collections import Counter"
   ]
  },
  {
   "cell_type": "markdown",
   "metadata": {},
   "source": [
    "### Extract Data"
   ]
  },
  {
   "cell_type": "code",
   "execution_count": 2,
   "metadata": {},
   "outputs": [],
   "source": [
    "# Extract genbank data and put into dictionary for recovery later\n",
    "groups_directory = \"./Groups/\"\n",
    "database_directory = \"./\"\n",
    "database_name = \"salmonella_database.pkl\"\n",
    "groups = [\n",
    "    1, 3, 4, 5, 6, 7, \n",
    "    8, 9, 10, 11, 12, \n",
    "    14, 15\n",
    "]\n",
    "genbank = {}\n",
    "for group in groups:\n",
    "    file_name = \"Group\" + str(group) + \".gbk\"\n",
    "    file_directory = groups_directory + \"Group\" + str(group) + \"/\"\n",
    "    for seq_record in SeqIO.parse(file_directory + file_name, \"genbank\"):\n",
    "        organism = seq_record.annotations[\"organism\"]\n",
    "        if len(seq_record.features) > 1:\n",
    "            for feature in seq_record.features[1:]:\n",
    "                name = feature.qualifiers[\"db_xref\"][0][5:]\n",
    "                if feature.type != 'CDS':\n",
    "                    continue\n",
    "                protein_sequence = feature.qualifiers[\"translation\"][0]\n",
    "                protein_name = feature.qualifiers[\"product\"][0]\n",
    "                genbank[name] = [protein_sequence, protein_name, organism]\n"
   ]
  },
  {
   "cell_type": "code",
   "execution_count": 3,
   "metadata": {},
   "outputs": [],
   "source": [
    "# Parse mp3 output data\n",
    "columns = [\"Group\", \"Sr._No.\", \"Sequence_Name\", \"Type_of_Pfam_domains\", \n",
    "           \"HMM_Prediction\", \"SVM_Score\", \n",
    "           \"SVM_prediction\", \"Hybrid_Prediction\", \"Assignment\", \n",
    "           \"Sequence\", \"Product\", \"Organism\"]\n",
    "data = []\n",
    "for group in groups:\n",
    "    file_name = \"Group\" + str(group) + \".faa.Hybrid.result\"\n",
    "    file_directory = groups_directory + \"Group\" + str(group) + \"/\"\n",
    "    with open(file_directory + file_name, \"r\") as handle:\n",
    "        lines = handle.readlines()[1:]\n",
    "        for line in lines:\n",
    "            if len(line) == 1:\n",
    "                continue\n",
    "            l = line.split('\\t')\n",
    "            if len(l) == 8:\n",
    "                for i in range(len(l)):\n",
    "                    l[i] = l[i].strip()\n",
    "                l[4] = float(l[4])\n",
    "                l[0] = int(float(l[0]))\n",
    "                # add in genbank data\n",
    "                l.extend(genbank[l[1]])\n",
    "                # add group number field\n",
    "                l.insert(0, group)\n",
    "                data.append(l)\n"
   ]
  },
  {
   "cell_type": "markdown",
   "metadata": {},
   "source": [
    "### Create Dataframe\n",
    "We chose to use pandas dataframe for our database because it is easy to implement. In the future we could implement a SQL relational database which would help link our entries. "
   ]
  },
  {
   "cell_type": "code",
   "execution_count": 4,
   "metadata": {},
   "outputs": [],
   "source": [
    "df = pd.DataFrame(data=data, columns=columns)"
   ]
  },
  {
   "cell_type": "markdown",
   "metadata": {},
   "source": [
    "Save to pickle for faster loading without input files"
   ]
  },
  {
   "cell_type": "code",
   "execution_count": 5,
   "metadata": {},
   "outputs": [],
   "source": [
    "df.to_pickle(database_directory + database_name)"
   ]
  },
  {
   "cell_type": "markdown",
   "metadata": {},
   "source": [
    "Please see analyze_database.ipynb for querying examples and analysis tools"
   ]
  }
 ],
 "metadata": {
  "kernelspec": {
   "display_name": "Python 3",
   "language": "python",
   "name": "python3"
  },
  "language_info": {
   "codemirror_mode": {
    "name": "ipython",
    "version": 3
   },
   "file_extension": ".py",
   "mimetype": "text/x-python",
   "name": "python",
   "nbconvert_exporter": "python",
   "pygments_lexer": "ipython3",
   "version": "3.7.3"
  }
 },
 "nbformat": 4,
 "nbformat_minor": 2
}
